import requests

url = "https://api.apilayer.com/fixer/symbols"

payload = {}
headers= {
  "apikey": "DIGITE AQUI A SUA API"
}

response = requests.request("GET", url, headers=headers, data = payload)

status_code = response.status_code
result = response.text
    

def convert_currency():
   init_currency = input('DE - Digite o código correspondente à moeda inicial (ex: BRL, EUR, USD, etc): ')
   target_currency = input('PARA - Digite o código correspondente à moeda objetivo (ex: BRL, EUR, USD, etc): ')

   while True:
       try:
           amount = float(input('Digite o valor: '))
       except:
           print('O valor deve ser em números!')
           continue

       if not amount > 0:
           print('O valor deve ser maior que 0')
           continue
       else:
           break

   url = ('https://api.apilayer.com/fixer/convert?to='
          + target_currency + '&from=' + init_currency +
          '&amount=' + str(amount))

   payload = {}
   headers = {'apikey': 'DIGITE AQUI A SUA API'}
   response = requests.request('GET', url, headers=headers, data=payload)
   status_code = response.status_code

   if status_code != 200:
       print('Não obtivemos resposta do servidor! Por favor, tente novamente mais tarde')
       quit()

   result = response.json()
   converted_value = result['result']
   print('Valor convertido: ' + str(result['result']))
   print('\n')
   print('Isso significa que com {} {} você consegue comprar:'.format(amount, init_currency))
   print('{} em {}'.format(converted_value, target_currency))


if __name__ == '__main__':
     convert_currency()


    
