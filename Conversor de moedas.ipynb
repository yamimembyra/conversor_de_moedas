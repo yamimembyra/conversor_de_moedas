{
 "cells": [
  {
   "cell_type": "code",
   "execution_count": 1,
   "id": "f7a75d19-f2a5-48f2-be33-1494ed71e6e3",
   "metadata": {},
   "outputs": [
    {
     "name": "stdin",
     "output_type": "stream",
     "text": [
      "DE - Digite o código correspondente à moeda inicial (ex: BRL, EUR, USD, etc):  usd\n",
      "PARA - Digite o código correspondente à moeda objetivo (ex: BRL, EUR, USD, etc):  brl\n",
      "Digite o valor:  500\n"
     ]
    },
    {
     "name": "stdout",
     "output_type": "stream",
     "text": [
      "Valor convertido: 2465.702\n",
      "\n",
      "\n",
      "Com 500.0 usd você consegue comprar:\n",
      "2465.702 em brl\n"
     ]
    }
   ],
   "source": [
    "import requests\n",
    "\n",
    "url = \"https://api.apilayer.com/fixer/symbols\"\n",
    "\n",
    "payload = {}\n",
    "headers= {\n",
    "  \"apikey\": \"RCJ2e0aVWfkPK98C6yBotzgdiC9uKImA\"\n",
    "}\n",
    "\n",
    "response = requests.request(\"GET\", url, headers=headers, data = payload)\n",
    "\n",
    "status_code = response.status_code\n",
    "result = response.text\n",
    "    \n",
    "\n",
    "def convert_currency():\n",
    "   init_currency = input('DE - Digite o código correspondente à moeda inicial (ex: BRL, EUR, USD, etc): ')\n",
    "   target_currency = input('PARA - Digite o código correspondente à moeda objetivo (ex: BRL, EUR, USD, etc): ')\n",
    "\n",
    "   while True:\n",
    "       try:\n",
    "           amount = float(input('Digite o valor: '))\n",
    "       except:\n",
    "           print('O valor deve ser em números!')\n",
    "           continue\n",
    "\n",
    "       if not amount > 0:\n",
    "           print('O valor deve ser maior que 0')\n",
    "           continue\n",
    "       else:\n",
    "           break\n",
    "\n",
    "   url = ('https://api.apilayer.com/fixer/convert?to='\n",
    "          + target_currency + '&from=' + init_currency +\n",
    "          '&amount=' + str(amount))\n",
    "\n",
    "   payload = {}\n",
    "   headers = {'apikey': 'RCJ2e0aVWfkPK98C6yBotzgdiC9uKImA'}\n",
    "   response = requests.request('GET', url, headers=headers, data=payload)\n",
    "   status_code = response.status_code\n",
    "\n",
    "   if status_code != 200:\n",
    "       print('Não obtivemos resposta do servidor! Por favor, tente novamente mais tarde')\n",
    "       quit()\n",
    "\n",
    "   result = response.json()\n",
    "   converted_value = result['result']\n",
    "   print('Valor convertido: ' + str(result['result']))\n",
    "   print('\\n')\n",
    "   print('Isso significa que com {} {} você consegue comprar:'.format(amount, init_currency))\n",
    "   print('{} em {}'.format(converted_value, target_currency))\n",
    "\n",
    "\n",
    "if __name__ == '__main__':\n",
    "     convert_currency()\n",
    "\n",
    "\n",
    "    \n"
   ]
  },
  {
   "cell_type": "code",
   "execution_count": null,
   "id": "521f0333-8d47-4b9a-a85f-401c9a8e2aae",
   "metadata": {},
   "outputs": [],
   "source": []
  },
  {
   "cell_type": "code",
   "execution_count": null,
   "id": "0f649598-4f94-4951-9cb1-5db1589029b4",
   "metadata": {},
   "outputs": [],
   "source": []
  },
  {
   "cell_type": "code",
   "execution_count": null,
   "id": "9e7261f2-83c4-40a0-b133-c47c5c4219bf",
   "metadata": {},
   "outputs": [],
   "source": []
  }
 ],
 "metadata": {
  "kernelspec": {
   "display_name": "Python 3 (ipykernel)",
   "language": "python",
   "name": "python3"
  },
  "language_info": {
   "codemirror_mode": {
    "name": "ipython",
    "version": 3
   },
   "file_extension": ".py",
   "mimetype": "text/x-python",
   "name": "python",
   "nbconvert_exporter": "python",
   "pygments_lexer": "ipython3",
   "version": "3.10.9"
  }
 },
 "nbformat": 4,
 "nbformat_minor": 5
}
